{
 "cells": [
  {
   "cell_type": "code",
   "execution_count": 1,
   "metadata": {},
   "outputs": [],
   "source": [
    "arr = [1, 2, 3, 4]"
   ]
  },
  {
   "cell_type": "code",
   "execution_count": 2,
   "metadata": {},
   "outputs": [
    {
     "data": {
      "text/plain": [
       "[1, 2, 3, 4]"
      ]
     },
     "execution_count": 2,
     "metadata": {},
     "output_type": "execute_result"
    }
   ],
   "source": [
    "arr"
   ]
  },
  {
   "cell_type": "code",
   "execution_count": 1,
   "metadata": {},
   "outputs": [
    {
     "data": {
      "text/plain": [
       "array([0., 0., 0., 0., 0.])"
      ]
     },
     "execution_count": 1,
     "metadata": {},
     "output_type": "execute_result"
    }
   ],
   "source": [
    "import numpy as np\n",
    "np.zeros(5)"
   ]
  },
  {
   "cell_type": "code",
   "execution_count": 1,
   "metadata": {},
   "outputs": [
    {
     "name": "stdout",
     "output_type": "stream",
     "text": [
      "[ 6 14 24 36 50]\n"
     ]
    }
   ],
   "source": [
    "import tensorflow as tf\n",
    "x1 = tf.constant([1,2,3,4,5])\n",
    "x2 = tf.constant([6,7,8,9,10])\n",
    "\n",
    "y = tf.multiply(x1, x2)\n",
    "\n",
    "with tf.Session() as sess:\n",
    "    output = sess.run(y)\n",
    "    print(output)"
   ]
  },
  {
   "cell_type": "code",
   "execution_count": 22,
   "metadata": {},
   "outputs": [
    {
     "name": "stdout",
     "output_type": "stream",
     "text": [
      "[[[[ 2720.]\n",
      "   [ 4350.]\n",
      "   [ 5295.]\n",
      "   [ 6240.]\n",
      "   [ 4088.]]\n",
      "\n",
      "  [[ 6240.]\n",
      "   [ 9279.]\n",
      "   [10332.]\n",
      "   [11385.]\n",
      "   [ 7158.]]\n",
      "\n",
      "  [[10155.]\n",
      "   [14544.]\n",
      "   [15597.]\n",
      "   [16650.]\n",
      "   [10263.]]\n",
      "\n",
      "  [[14070.]\n",
      "   [19809.]\n",
      "   [20862.]\n",
      "   [21915.]\n",
      "   [13368.]]\n",
      "\n",
      "  [[ 7040.]\n",
      "   [ 9372.]\n",
      "   [ 9831.]\n",
      "   [10290.]\n",
      "   [ 5816.]]]]\n"
     ]
    }
   ],
   "source": [
    "import tensorflow as tf\n",
    "import numpy as np\n",
    "\n",
    "# filter / kernel tensor of shape [filter_height, filter_width, in_channels, out_channels]\n",
    "filter = tf.convert_to_tensor(np.arange(3*3*3).reshape((3, 3, 3, 1)), preferred_dtype=tf.float32)\n",
    "# input tensor of shape [batch, in_height, in_width, in_channels]\n",
    "input = tf.convert_to_tensor(np.arange(5*5*3).reshape((1, 5, 5, 3)), preferred_dtype=tf.float32)\n",
    "\n",
    "conv = tf.nn.conv2d(input, filter, strides=[1,1,1,1], padding=\"SAME\")\n",
    "\n",
    "with tf.Session() as sess:\n",
    "    output = sess.run(conv)\n",
    "    print(output)"
   ]
  },
  {
   "cell_type": "code",
   "execution_count": null,
   "metadata": {},
   "outputs": [],
   "source": []
  }
 ],
 "metadata": {
  "kernelspec": {
   "display_name": "Python 3",
   "language": "python",
   "name": "python3"
  },
  "language_info": {
   "codemirror_mode": {
    "name": "ipython",
    "version": 3
   },
   "file_extension": ".py",
   "mimetype": "text/x-python",
   "name": "python",
   "nbconvert_exporter": "python",
   "pygments_lexer": "ipython3",
   "version": "3.6.7"
  }
 },
 "nbformat": 4,
 "nbformat_minor": 2
}
