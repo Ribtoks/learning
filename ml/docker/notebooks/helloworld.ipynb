{
 "cells": [
  {
   "cell_type": "code",
   "execution_count": 1,
   "metadata": {},
   "outputs": [],
   "source": [
    "arr = [1, 2, 3, 4]"
   ]
  },
  {
   "cell_type": "code",
   "execution_count": 2,
   "metadata": {},
   "outputs": [
    {
     "data": {
      "text/plain": [
       "[1, 2, 3, 4]"
      ]
     },
     "execution_count": 2,
     "metadata": {},
     "output_type": "execute_result"
    }
   ],
   "source": [
    "arr"
   ]
  },
  {
   "cell_type": "code",
   "execution_count": 1,
   "metadata": {},
   "outputs": [
    {
     "data": {
      "text/plain": [
       "array([0., 0., 0., 0., 0.])"
      ]
     },
     "execution_count": 1,
     "metadata": {},
     "output_type": "execute_result"
    }
   ],
   "source": [
    "import numpy as np\n",
    "np.zeros(5)"
   ]
  },
  {
   "cell_type": "code",
   "execution_count": 1,
   "metadata": {},
   "outputs": [
    {
     "name": "stdout",
     "output_type": "stream",
     "text": [
      "[ 6 14 24 36 50]\n"
     ]
    }
   ],
   "source": [
    "import tensorflow as tf\n",
    "x1 = tf.constant([1,2,3,4,5])\n",
    "x2 = tf.constant([6,7,8,9,10])\n",
    "\n",
    "y = tf.multiply(x1, x2)\n",
    "\n",
    "with tf.Session() as sess:\n",
    "    output = sess.run(y)\n",
    "    print(output)"
   ]
  },
  {
   "cell_type": "code",
   "execution_count": 8,
   "metadata": {},
   "outputs": [
    {
     "name": "stdout",
     "output_type": "stream",
     "text": [
      "[[[[ 2720.]\n",
      "   [ 4350.]\n",
      "   [ 5295.]\n",
      "   [ 6240.]\n",
      "   [ 4088.]]\n",
      "\n",
      "  [[ 6240.]\n",
      "   [ 9279.]\n",
      "   [10332.]\n",
      "   [11385.]\n",
      "   [ 7158.]]\n",
      "\n",
      "  [[10155.]\n",
      "   [14544.]\n",
      "   [15597.]\n",
      "   [16650.]\n",
      "   [10263.]]\n",
      "\n",
      "  [[14070.]\n",
      "   [19809.]\n",
      "   [20862.]\n",
      "   [21915.]\n",
      "   [13368.]]\n",
      "\n",
      "  [[ 7040.]\n",
      "   [ 9372.]\n",
      "   [ 9831.]\n",
      "   [10290.]\n",
      "   [ 5816.]]]]\n"
     ]
    }
   ],
   "source": [
    "import tensorflow as tf\n",
    "import numpy as np\n",
    "\n",
    "# filter / kernel tensor of shape [filter_height, filter_width, in_channels, out_channels]\n",
    "nf = np.arange(3*3*3).reshape((3, 3, 3, 1))\n",
    "# print(nf)\n",
    "\n",
    "# input tensor of shape [batch, in_height, in_width, in_channels]\n",
    "ni = np.arange(5*5*3).reshape((1, 5, 5, 3))\n",
    "# print(ni)\n",
    "\n",
    "filter = tf.convert_to_tensor(nf, preferred_dtype=tf.float32)\n",
    "input = tf.convert_to_tensor(ni, preferred_dtype=tf.float32)\n",
    "\n",
    "conv = tf.nn.conv2d(input, filter, strides=[1,1,1,1], padding=\"SAME\")\n",
    "\n",
    "with tf.Session() as sess:\n",
    "    output = sess.run(conv)\n",
    "    print(output)"
   ]
  },
  {
   "cell_type": "code",
   "execution_count": 16,
   "metadata": {},
   "outputs": [
    {
     "name": "stdout",
     "output_type": "stream",
     "text": [
      "[[[[ 30.]\n",
      "   [ 80.]\n",
      "   [130.]]\n",
      "\n",
      "  [[180.]\n",
      "   [230.]\n",
      "   [280.]]\n",
      "\n",
      "  [[330.]\n",
      "   [380.]\n",
      "   [430.]]]]\n"
     ]
    }
   ],
   "source": [
    "import tensorflow as tf\n",
    "import numpy as np\n",
    "\n",
    "input_shape = (1, 3, 3, 5)\n",
    "filter_shape = (1, 1, 5, 1)\n",
    "\n",
    "input = tf.convert_to_tensor(\n",
    "    np.arange(np.prod(input_shape)).reshape(input_shape), \n",
    "    preferred_dtype=tf.float32)\n",
    "filter = tf.convert_to_tensor(\n",
    "    np.arange(np.prod(filter_shape)).reshape(filter_shape), \n",
    "    preferred_dtype=tf.float32)\n",
    "\n",
    "op = tf.nn.conv2d(input, filter, strides=[1, 1, 1, 1], padding='VALID')\n",
    "\n",
    "#init = tf.global_variables_initializer()\n",
    "\n",
    "with tf.Session() as sess:\n",
    " #   sess.run(init)\n",
    "    output = sess.run(op)\n",
    "    print(output)"
   ]
  },
  {
   "cell_type": "code",
   "execution_count": 23,
   "metadata": {},
   "outputs": [
    {
     "name": "stdout",
     "output_type": "stream",
     "text": [
      "[[[[ 90440.  90780.  91120.  91460.  91800.  92140.  92480.]\n",
      "   [144410. 144995. 145580. 146165. 146750. 147335. 147920.]\n",
      "   [175385. 176120. 176855. 177590. 178325. 179060. 179795.]\n",
      "   [206360. 207245. 208130. 209015. 209900. 210785. 211670.]\n",
      "   [135240. 135880. 136520. 137160. 137800. 138440. 139080.]]\n",
      "\n",
      "  [[206010. 206895. 207780. 208665. 209550. 210435. 211320.]\n",
      "   [306390. 307830. 309270. 310710. 312150. 313590. 315030.]\n",
      "   [341040. 342705. 344370. 346035. 347700. 349365. 351030.]\n",
      "   [375690. 377580. 379470. 381360. 383250. 385140. 387030.]\n",
      "   [236460. 237795. 239130. 240465. 241800. 243135. 244470.]]\n",
      "\n",
      "  [[334635. 336270. 337905. 339540. 341175. 342810. 344445.]\n",
      "   [479640. 482205. 484770. 487335. 489900. 492465. 495030.]\n",
      "   [514290. 517080. 519870. 522660. 525450. 528240. 531030.]\n",
      "   [548940. 551955. 554970. 557985. 561000. 564015. 567030.]\n",
      "   [338835. 340920. 343005. 345090. 347175. 349260. 351345.]]\n",
      "\n",
      "  [[463260. 465645. 468030. 470415. 472800. 475185. 477570.]\n",
      "   [652890. 656580. 660270. 663960. 667650. 671340. 675030.]\n",
      "   [687540. 691455. 695370. 699285. 703200. 707115. 711030.]\n",
      "   [722190. 726330. 730470. 734610. 738750. 742890. 747030.]\n",
      "   [441210. 444045. 446880. 449715. 452550. 455385. 458220.]]\n",
      "\n",
      "  [[233240. 235080. 236920. 238760. 240600. 242440. 244280.]\n",
      "   [311360. 314195. 317030. 319865. 322700. 325535. 328370.]\n",
      "   [326585. 329570. 332555. 335540. 338525. 341510. 344495.]\n",
      "   [341810. 344945. 348080. 351215. 354350. 357485. 360620.]\n",
      "   [194040. 196180. 198320. 200460. 202600. 204740. 206880.]]]]\n"
     ]
    }
   ],
   "source": [
    "import tensorflow as tf\n",
    "import numpy as np\n",
    "\n",
    "filter_shape = (3,3,5,7)\n",
    "input_shape = (1,5,5,5)\n",
    "\n",
    "input = tf.convert_to_tensor(\n",
    "    np.arange(np.prod(input_shape)).reshape(input_shape), \n",
    "    preferred_dtype=tf.float32)\n",
    "filter = tf.convert_to_tensor(\n",
    "    np.arange(np.prod(filter_shape)).reshape(filter_shape), \n",
    "    preferred_dtype=tf.float32)\n",
    "\n",
    "op = tf.nn.conv2d(input, filter, strides=[1, 1, 1, 1], padding='SAME')\n",
    "\n",
    "#init = tf.global_variables_initializer()\n",
    "\n",
    "with tf.Session() as sess:\n",
    " #   sess.run(init)\n",
    "    output = sess.run(op)\n",
    "    print(output)"
   ]
  },
  {
   "cell_type": "code",
   "execution_count": 22,
   "metadata": {},
   "outputs": [
    {
     "data": {
      "text/plain": [
       "array([[[  0,   7,  14,  21,  28],\n",
       "        [ 35,  42,  49,  56,  63],\n",
       "        [ 70,  77,  84,  91,  98]],\n",
       "\n",
       "       [[105, 112, 119, 126, 133],\n",
       "        [140, 147, 154, 161, 168],\n",
       "        [175, 182, 189, 196, 203]],\n",
       "\n",
       "       [[210, 217, 224, 231, 238],\n",
       "        [245, 252, 259, 266, 273],\n",
       "        [280, 287, 294, 301, 308]]])"
      ]
     },
     "execution_count": 22,
     "metadata": {},
     "output_type": "execute_result"
    }
   ],
   "source": [
    "import numpy as np\n",
    "filter_shape = (3,3,5,7)\n",
    "x = np.arange(np.prod(filter_shape)).reshape(filter_shape)\n",
    "x[:,:,:,0]"
   ]
  },
  {
   "cell_type": "code",
   "execution_count": null,
   "metadata": {},
   "outputs": [],
   "source": []
  }
 ],
 "metadata": {
  "kernelspec": {
   "display_name": "Python 3",
   "language": "python",
   "name": "python3"
  },
  "language_info": {
   "codemirror_mode": {
    "name": "ipython",
    "version": 3
   },
   "file_extension": ".py",
   "mimetype": "text/x-python",
   "name": "python",
   "nbconvert_exporter": "python",
   "pygments_lexer": "ipython3",
   "version": "3.6.7"
  }
 },
 "nbformat": 4,
 "nbformat_minor": 2
}
