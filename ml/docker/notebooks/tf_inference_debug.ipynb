{
 "cells": [
  {
   "cell_type": "code",
   "execution_count": 8,
   "metadata": {},
   "outputs": [
    {
     "name": "stdout",
     "output_type": "stream",
     "text": [
      "[[[[ 2720.]\n",
      "   [ 4350.]\n",
      "   [ 5295.]\n",
      "   [ 6240.]\n",
      "   [ 4088.]]\n",
      "\n",
      "  [[ 6240.]\n",
      "   [ 9279.]\n",
      "   [10332.]\n",
      "   [11385.]\n",
      "   [ 7158.]]\n",
      "\n",
      "  [[10155.]\n",
      "   [14544.]\n",
      "   [15597.]\n",
      "   [16650.]\n",
      "   [10263.]]\n",
      "\n",
      "  [[14070.]\n",
      "   [19809.]\n",
      "   [20862.]\n",
      "   [21915.]\n",
      "   [13368.]]\n",
      "\n",
      "  [[ 7040.]\n",
      "   [ 9372.]\n",
      "   [ 9831.]\n",
      "   [10290.]\n",
      "   [ 5816.]]]]\n"
     ]
    }
   ],
   "source": [
    "import tensorflow as tf\n",
    "import numpy as np\n",
    "\n",
    "# filter / kernel tensor of shape [filter_height, filter_width, in_channels, out_channels]\n",
    "nf = np.arange(3*3*3).reshape((3, 3, 3, 1))\n",
    "# print(nf)\n",
    "\n",
    "# input tensor of shape [batch, in_height, in_width, in_channels]\n",
    "ni = np.arange(5*5*3).reshape((1, 5, 5, 3))\n",
    "# print(ni)\n",
    "\n",
    "filter = tf.convert_to_tensor(nf, preferred_dtype=tf.float32)\n",
    "input = tf.convert_to_tensor(ni, preferred_dtype=tf.float32)\n",
    "\n",
    "conv = tf.nn.conv2d(input, filter, strides=[1,1,1,1], padding=\"SAME\")\n",
    "\n",
    "with tf.Session() as sess:\n",
    "    output = sess.run(conv)\n",
    "    print(output)"
   ]
  },
  {
   "cell_type": "code",
   "execution_count": 16,
   "metadata": {},
   "outputs": [
    {
     "name": "stdout",
     "output_type": "stream",
     "text": [
      "[[[[ 30.]\n",
      "   [ 80.]\n",
      "   [130.]]\n",
      "\n",
      "  [[180.]\n",
      "   [230.]\n",
      "   [280.]]\n",
      "\n",
      "  [[330.]\n",
      "   [380.]\n",
      "   [430.]]]]\n"
     ]
    }
   ],
   "source": [
    "import tensorflow as tf\n",
    "import numpy as np\n",
    "\n",
    "input_shape = (1, 3, 3, 5)\n",
    "filter_shape = (1, 1, 5, 1)\n",
    "\n",
    "input = tf.convert_to_tensor(\n",
    "    np.arange(np.prod(input_shape)).reshape(input_shape), \n",
    "    preferred_dtype=tf.float32)\n",
    "filter = tf.convert_to_tensor(\n",
    "    np.arange(np.prod(filter_shape)).reshape(filter_shape), \n",
    "    preferred_dtype=tf.float32)\n",
    "\n",
    "op = tf.nn.conv2d(input, filter, strides=[1, 1, 1, 1], padding='VALID')\n",
    "\n",
    "#init = tf.global_variables_initializer()\n",
    "\n",
    "with tf.Session() as sess:\n",
    " #   sess.run(init)\n",
    "    output = sess.run(op)\n",
    "    print(output)"
   ]
  },
  {
   "cell_type": "code",
   "execution_count": 29,
   "metadata": {},
   "outputs": [
    {
     "name": "stdout",
     "output_type": "stream",
     "text": [
      "[[[[306390. 307830. 309270. 310710. 312150. 313590. 315030.]\n",
      "   [341040. 342705. 344370. 346035. 347700. 349365. 351030.]\n",
      "   [375690. 377580. 379470. 381360. 383250. 385140. 387030.]]\n",
      "\n",
      "  [[479640. 482205. 484770. 487335. 489900. 492465. 495030.]\n",
      "   [514290. 517080. 519870. 522660. 525450. 528240. 531030.]\n",
      "   [548940. 551955. 554970. 557985. 561000. 564015. 567030.]]\n",
      "\n",
      "  [[652890. 656580. 660270. 663960. 667650. 671340. 675030.]\n",
      "   [687540. 691455. 695370. 699285. 703200. 707115. 711030.]\n",
      "   [722190. 726330. 730470. 734610. 738750. 742890. 747030.]]]]\n"
     ]
    }
   ],
   "source": [
    "import tensorflow as tf\n",
    "import numpy as np\n",
    "\n",
    "filter_shape = (3,3,5,7)\n",
    "input_shape = (1,5,5,5)\n",
    "scale = 1.0 #42.333553\n",
    "\n",
    "input = tf.convert_to_tensor(\n",
    "    np.divide(np.arange(np.prod(input_shape)).reshape(input_shape), scale), \n",
    "    preferred_dtype=tf.float32)\n",
    "filter = tf.convert_to_tensor(\n",
    "    np.divide(np.arange(np.prod(filter_shape)).reshape(filter_shape), scale), \n",
    "    preferred_dtype=tf.float32)\n",
    "\n",
    "op = tf.nn.conv2d(input, filter, strides=[1, 1, 1, 1], padding='VALID')\n",
    "\n",
    "#init = tf.global_variables_initializer()\n",
    "\n",
    "with tf.Session() as sess:\n",
    " #   sess.run(init)\n",
    "    output = sess.run(op)\n",
    "    print(output)"
   ]
  },
  {
   "cell_type": "code",
   "execution_count": 26,
   "metadata": {},
   "outputs": [
    {
     "data": {
      "text/plain": [
       "array([[[0.        , 0.16260163, 0.32520325, 0.48780488, 0.6504065 ],\n",
       "        [0.81300813, 0.97560976, 1.13821138, 1.30081301, 1.46341463],\n",
       "        [1.62601626, 1.78861789, 1.95121951, 2.11382114, 2.27642276]],\n",
       "\n",
       "       [[2.43902439, 2.60162602, 2.76422764, 2.92682927, 3.08943089],\n",
       "        [3.25203252, 3.41463415, 3.57723577, 3.7398374 , 3.90243902],\n",
       "        [4.06504065, 4.22764228, 4.3902439 , 4.55284553, 4.71544715]],\n",
       "\n",
       "       [[4.87804878, 5.04065041, 5.20325203, 5.36585366, 5.52845528],\n",
       "        [5.69105691, 5.85365854, 6.01626016, 6.17886179, 6.34146341],\n",
       "        [6.50406504, 6.66666667, 6.82926829, 6.99186992, 7.15447154]]])"
      ]
     },
     "execution_count": 26,
     "metadata": {},
     "output_type": "execute_result"
    }
   ],
   "source": [
    "import numpy as np\n",
    "filter_shape = (3,3,5,7)\n",
    "x = np.arange(np.prod(filter_shape)).reshape(filter_shape)\n",
    "np.divide(x[:,:,:,0], 43.05)"
   ]
  },
  {
   "cell_type": "code",
   "execution_count": 34,
   "metadata": {},
   "outputs": [
    {
     "name": "stdout",
     "output_type": "stream",
     "text": [
      "[[[[ 60.  61.  62.  63.  64.  65.  66.  67.  68.  69.]\n",
      "   [ 80.  81.  82.  83.  84.  85.  86.  87.  88.  89.]]\n",
      "\n",
      "  [[160. 161. 162. 163. 164. 165. 166. 167. 168. 169.]\n",
      "   [180. 181. 182. 183. 184. 185. 186. 187. 188. 189.]]]]\n"
     ]
    }
   ],
   "source": [
    "import tensorflow as tf\n",
    "import numpy as np\n",
    "\n",
    "input_shape = (1,5,5,10)\n",
    "\n",
    "input = tf.convert_to_tensor(\n",
    "    np.arange(np.prod(input_shape)).reshape(input_shape), \n",
    "    preferred_dtype=tf.float32)\n",
    "\n",
    "op = tf.nn.max_pool(input, ksize=[1, 2, 2, 1], strides=[1, 2, 2, 1], padding='VALID')\n",
    "\n",
    "with tf.Session() as sess:\n",
    "    output = sess.run(op)\n",
    "    print(output)"
   ]
  },
  {
   "cell_type": "code",
   "execution_count": 78,
   "metadata": {},
   "outputs": [
    {
     "name": "stdout",
     "output_type": "stream",
     "text": [
      "[[0 1]\n",
      " [2 3]\n",
      " [4 5]]\n",
      "[[6. 9.]]\n",
      "[[6. 9.]]\n"
     ]
    }
   ],
   "source": [
    "import os\n",
    "\n",
    "x0 = np.ones((1, 3))\n",
    "# print(x0)\n",
    "w0 = np.arange(6).reshape((3, 2))\n",
    "print(w0)\n",
    "x = tf.constant(x0)\n",
    "init = tf.constant_initializer(w0)\n",
    "y = tf.layers.dense(x, 2, kernel_initializer=init)\n",
    "sess = tf.Session()\n",
    "sess.run(tf.global_variables_initializer())\n",
    "\n",
    "#weights = tf.get_default_graph().get_tensor_by_name(\n",
    "#  os.path.split(y.name)[0] + '/kernel:0')\n",
    "#print(sess.run(weights))\n",
    "\n",
    "y0 = sess.run(y)\n",
    "\n",
    "expected_y0 = np.tensordot(x0,w0,axes=[(1,),(0,)])\n",
    "\n",
    "print(y0)\n",
    "print(expected_y0)"
   ]
  },
  {
   "cell_type": "code",
   "execution_count": 85,
   "metadata": {},
   "outputs": [
    {
     "name": "stdout",
     "output_type": "stream",
     "text": [
      "[[6. 9.]]\n",
      "[[0 1 2 3 4 5]]\n"
     ]
    }
   ],
   "source": [
    "w0 = np.arange(6).reshape((3, 2))\n",
    "x0 = np.ones((1, 3))\n",
    "x = tf.constant(x0, dtype=tf.float32)\n",
    "w = tf.constant(w0, dtype=tf.float32)\n",
    "\n",
    "W1 = tf.Variable(w, name='Weights')\n",
    "b1 = tf.Variable(tf.zeros([2]), name='Biases')\n",
    "h1 = tf.add(tf.matmul(x, W1), b1)\n",
    "\n",
    "sess = tf.Session()\n",
    "sess.run(tf.global_variables_initializer())\n",
    "print(sess.run(h1))\n",
    "\n",
    "print(sess.run(tf.contrib.layers.flatten(tf.constant(np.arange(6).reshape((1, 3, 2))))))"
   ]
  },
  {
   "cell_type": "code",
   "execution_count": 80,
   "metadata": {},
   "outputs": [
    {
     "name": "stdout",
     "output_type": "stream",
     "text": [
      "<tf.Variable 'dense/kernel:0' shape=(3, 2) dtype=float64_ref>\n",
      "[[0. 1.]\n",
      " [2. 3.]\n",
      " [4. 5.]]\n",
      "<tf.Variable 'dense/bias:0' shape=(2,) dtype=float64_ref>\n",
      "[0. 0.]\n"
     ]
    }
   ],
   "source": [
    "tf.reset_default_graph()\n",
    "x = tf.constant(np.ones((1, 3)))\n",
    "init = tf.constant_initializer(np.arange(6).reshape((3, 2)))\n",
    "y = tf.layers.dense(x, 2, kernel_initializer=init)\n",
    "sess = tf.Session()\n",
    "sess.run(tf.global_variables_initializer())\n",
    "y0 = sess.run(y)\n",
    "\n",
    "all_layers = tf.get_collection(tf.GraphKeys.TRAINABLE_VARIABLES)\n",
    "for layer in all_layers:\n",
    "    print(layer)\n",
    "    print(layer.eval(sess))"
   ]
  },
  {
   "cell_type": "code",
   "execution_count": null,
   "metadata": {},
   "outputs": [],
   "source": []
  }
 ],
 "metadata": {
  "kernelspec": {
   "display_name": "Python 3",
   "language": "python",
   "name": "python3"
  },
  "language_info": {
   "codemirror_mode": {
    "name": "ipython",
    "version": 3
   },
   "file_extension": ".py",
   "mimetype": "text/x-python",
   "name": "python",
   "nbconvert_exporter": "python",
   "pygments_lexer": "ipython3",
   "version": "3.6.7"
  }
 },
 "nbformat": 4,
 "nbformat_minor": 2
}
